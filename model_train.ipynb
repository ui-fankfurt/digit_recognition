{
  "cells": [
    {
      "cell_type": "code",
      "execution_count": 2,
      "metadata": {
        "id": "Wo1jBx4qC1WI"
      },
      "outputs": [],
      "source": [
        "import warnings\n",
        "warnings.filterwarnings('ignore')\n",
        "import csv\n",
        "import pandas as pd\n",
        "import string\n",
        "import numpy as np\n",
        "import tensorflow as tf\n",
        "import matplotlib.pyplot as plt\n",
        "from tensorflow.keras.preprocessing.image import ImageDataGenerator, array_to_img"
      ]
    },
    {
      "cell_type": "code",
      "execution_count": 3,
      "metadata": {
        "id": "yBUjMjkwJgVr"
      },
      "outputs": [],
      "source": [
        "def parse_data_from_input(filename):\n",
        "  df = pd.read_csv(filename)\n",
        "  labels = []\n",
        "  images = []\n",
        "  for i, row in df.iterrows():\n",
        "    if i > 0:\n",
        "        labels.append(row[0])\n",
        "        images.append(row[1:])\n",
        "\n",
        "  images = np.array(images, dtype=np.float64)\n",
        "  labels = np.array(labels, dtype=np.float64)\n",
        "\n",
        "  images = images.reshape(images.shape[0], 28, 28 )\n",
        "\n",
        "\n",
        "  return images, labels"
      ]
    },
    {
      "cell_type": "code",
      "execution_count": 4,
      "metadata": {
        "id": "WsPMs_k4KfH4"
      },
      "outputs": [],
      "source": [
        "training_images, training_labels = parse_data_from_input('train.csv')"
      ]
    },
    {
      "cell_type": "code",
      "execution_count": 5,
      "metadata": {
        "colab": {
          "base_uri": "https://localhost:8080/",
          "height": 110
        },
        "id": "AlbaUGuOKng5",
        "outputId": "67991963-b3b2-4ba3-fa9c-29403ffdf55e"
      },
      "outputs": [
        {
          "data": {
            "image/png": "[encoded data removed]",
            "text/plain": [
              "<Figure size 1600x1500 with 10 Axes>"
            ]
          },
          "metadata": {},
          "output_type": "display_data"
        }
      ],
      "source": [
        "def plot_categories(training_images, training_labels):\n",
        "  fig, axes = plt.subplots(1, 10, figsize=(16, 15))\n",
        "  axes = axes.flatten()\n",
        "  digits = [i for i in range(10)]\n",
        "\n",
        "  for k in range(10):\n",
        "    img = training_images[k]\n",
        "    img = np.expand_dims(img, axis=-1)\n",
        "    img = array_to_img(img)\n",
        "    ax = axes[k]\n",
        "    ax.imshow(img, cmap=\"Greys_r\")\n",
        "    ax.set_title(f\"{digits[int(training_labels[k])]}\")\n",
        "    ax.set_axis_off()\n",
        "\n",
        "  plt.tight_layout()\n",
        "  plt.show()\n",
        "\n",
        "plot_categories(training_images, training_labels)"
      ]
    },
    {
      "cell_type": "code",
      "execution_count": 6,
      "metadata": {
        "colab": {
          "base_uri": "https://localhost:8080/"
        },
        "id": "CsdvxGtGM5A8",
        "outputId": "429ab469-52fb-4d88-be1a-7638d2a4b5c5"
      },
      "outputs": [
        {
          "name": "stdout",
          "output_type": "stream",
          "text": [
            "33599\n"
          ]
        }
      ],
      "source": [
        "training_len = int(len(training_images)*0.8)\n",
        "print(training_len)"
      ]
    },
    {
      "cell_type": "code",
      "execution_count": 7,
      "metadata": {
        "id": "qAu0vyooOrN7"
      },
      "outputs": [],
      "source": [
        "validation_images = training_images[:training_len]\n",
        "validation_labels = training_labels[:training_len]\n",
        "\n",
        "training_images = training_images[:training_len]\n",
        "training_labels = training_labels[:training_len]"
      ]
    },
    {
      "cell_type": "code",
      "execution_count": 8,
      "metadata": {
        "id": "89YW3DhMPFgN"
      },
      "outputs": [],
      "source": [
        "def train_val_generators(training_images, training_labels, validation_images, validation_labels):\n",
        "\n",
        "    training_images = training_images.reshape(training_images.shape[0], training_images.shape[1], training_images.shape[2], 1)\n",
        "    validation_images = validation_images.reshape(validation_images.shape[0], validation_images.shape[1], validation_images.shape[2], 1)\n",
        "\n",
        "    # training_images = np.expand_dims(training_images, axis=3)\n",
        "    # testing_images = np.expand_dims(validation_images, axis=3)\n",
        "\n",
        "    train_datagen = ImageDataGenerator(\n",
        "        rescale=1.0 / 255,\n",
        "        rotation_range=40,\n",
        "        width_shift_range=0.2,\n",
        "        height_shift_range=0.2,\n",
        "        shear_range=0.2,\n",
        "        zoom_range=0.2,\n",
        "        horizontal_flip=True,\n",
        "        fill_mode='nearest'\n",
        "    )\n",
        "\n",
        "\n",
        "    # Pass in the appropriate arguments to the flow method\n",
        "    train_generator = train_datagen.flow(x=training_images,\n",
        "                                        y=training_labels,\n",
        "                                        batch_size=32)\n",
        "\n",
        "\n",
        "    # Instantiate the ImageDataGenerator class (don't forget to set the rescale argument)\n",
        "    # Remember that validation data should not be augmented\n",
        "    validation_datagen = ImageDataGenerator(rescale=1.0 / 255)\n",
        "\n",
        "\n",
        "    # Pass in the appropriate arguments to the flow method\n",
        "    validation_generator = validation_datagen.flow(x=validation_images,\n",
        "                                                    y=validation_labels,\n",
        "                                                    batch_size=32)\n",
        "\n",
        "    ### END CODE HERE\n",
        "\n",
        "    return train_generator, validation_generator"
      ]
    },
    {
      "cell_type": "code",
      "execution_count": 9,
      "metadata": {
        "id": "BvdS8DJEPc-1"
      },
      "outputs": [],
      "source": [
        "train_generator, validation_generator = train_val_generators(training_images, training_labels, validation_images, validation_labels)\n"
      ]
    },
    {
      "cell_type": "markdown",
      "metadata": {},
      "source": [
        "## Inception Model"
      ]
    },
    {
      "cell_type": "code",
      "execution_count": 10,
      "metadata": {},
      "outputs": [],
      "source": [
        "from inception import InceptionModel"
      ]
    },
    {
      "cell_type": "code",
      "execution_count": 11,
      "metadata": {
        "colab": {
          "base_uri": "https://localhost:8080/",
          "height": 780
        },
        "id": "Kh81AO5PPnEe",
        "outputId": "a945a01f-0071-4ba3-cb5f-484e5abd8cf8"
      },
      "outputs": [],
      "source": [
        "inception_model = InceptionModel(nClasses = 10)"
      ]
    },
    {
      "cell_type": "code",
      "execution_count": 12,
      "metadata": {
        "id": "YwJW6J7PPvl6"
      },
      "outputs": [],
      "source": [
        "epochs = 100\n",
        "batch_size = 128\n",
        "es = tf.keras.callbacks.EarlyStopping(\n",
        "        monitor=\"val_accuracy\", # metrics to monitor\n",
        "        patience=10, # how many epochs before stop\n",
        "        verbose=1,\n",
        "        mode=\"max\", # we need the maximum accuracy.\n",
        "        restore_best_weights=True, # \n",
        "     )"
      ]
    },
    {
      "cell_type": "code",
      "execution_count": 13,
      "metadata": {},
      "outputs": [],
      "source": [
        "inception_model.compile(\n",
        "        optimizer='adam',#RMSprop(learning_rate = 0.0003),\n",
        "        loss='sparse_categorical_crossentropy',\n",
        "        metrics=['accuracy']\n",
        "    )"
      ]
    },
    {
      "cell_type": "code",
      "execution_count": 14,
      "metadata": {},
      "outputs": [
        {
          "name": "stdout",
          "output_type": "stream",
          "text": [
            "Epoch 1/100\n",
            "1050/1050 [==============================] - 183s 174ms/step - loss: 1.2082 - accuracy: 0.5764 - val_loss: 0.5205 - val_accuracy: 0.8196\n",
            "Epoch 2/100\n",
            "1050/1050 [==============================] - 186s 177ms/step - loss: 0.6315 - accuracy: 0.7842 - val_loss: 0.3250 - val_accuracy: 0.8871\n",
            "Epoch 3/100\n",
            "1050/1050 [==============================] - 178s 170ms/step - loss: 0.5102 - accuracy: 0.8269 - val_loss: 0.3082 - val_accuracy: 0.8952\n",
            "Epoch 4/100\n",
            "1050/1050 [==============================] - 178s 170ms/step - loss: 0.4387 - accuracy: 0.8563 - val_loss: 0.2237 - val_accuracy: 0.9267\n",
            "Epoch 5/100\n",
            "1050/1050 [==============================] - 179s 170ms/step - loss: 0.3878 - accuracy: 0.8726 - val_loss: 0.1991 - val_accuracy: 0.9349\n",
            "Epoch 6/100\n",
            "1050/1050 [==============================] - 177s 168ms/step - loss: 0.3620 - accuracy: 0.8840 - val_loss: 0.1981 - val_accuracy: 0.9383\n",
            "Epoch 7/100\n",
            "1050/1050 [==============================] - 177s 169ms/step - loss: 0.3387 - accuracy: 0.8917 - val_loss: 0.1992 - val_accuracy: 0.9362\n",
            "Epoch 8/100\n",
            "1050/1050 [==============================] - 175s 167ms/step - loss: 0.3075 - accuracy: 0.9014 - val_loss: 0.1803 - val_accuracy: 0.9423\n",
            "Epoch 9/100\n",
            "1050/1050 [==============================] - 175s 167ms/step - loss: 0.2910 - accuracy: 0.9065 - val_loss: 0.1595 - val_accuracy: 0.9496\n",
            "Epoch 10/100\n",
            "1050/1050 [==============================] - 177s 169ms/step - loss: 0.2698 - accuracy: 0.9122 - val_loss: 0.1508 - val_accuracy: 0.9518\n",
            "Epoch 11/100\n",
            "1050/1050 [==============================] - 176s 168ms/step - loss: 0.2698 - accuracy: 0.9153 - val_loss: 0.1695 - val_accuracy: 0.9486\n",
            "Epoch 12/100\n",
            "1050/1050 [==============================] - 177s 168ms/step - loss: 0.2530 - accuracy: 0.9189 - val_loss: 0.1475 - val_accuracy: 0.9534\n",
            "Epoch 13/100\n",
            "1050/1050 [==============================] - 177s 169ms/step - loss: 0.2462 - accuracy: 0.9220 - val_loss: 0.1483 - val_accuracy: 0.9543\n",
            "Epoch 14/100\n",
            "1050/1050 [==============================] - 178s 169ms/step - loss: 0.2379 - accuracy: 0.9252 - val_loss: 0.1198 - val_accuracy: 0.9619\n",
            "Epoch 15/100\n",
            "1050/1050 [==============================] - 180s 172ms/step - loss: 0.2299 - accuracy: 0.9278 - val_loss: 0.1409 - val_accuracy: 0.9562\n",
            "Epoch 16/100\n",
            "1050/1050 [==============================] - 177s 168ms/step - loss: 0.2364 - accuracy: 0.9247 - val_loss: 0.1355 - val_accuracy: 0.9577\n",
            "Epoch 17/100\n",
            "1050/1050 [==============================] - 189s 180ms/step - loss: 0.2179 - accuracy: 0.9302 - val_loss: 0.1309 - val_accuracy: 0.9590\n",
            "Epoch 18/100\n",
            "1050/1050 [==============================] - 184s 175ms/step - loss: 0.2153 - accuracy: 0.9321 - val_loss: 0.1391 - val_accuracy: 0.9551\n",
            "Epoch 19/100\n",
            "1050/1050 [==============================] - 184s 175ms/step - loss: 0.2122 - accuracy: 0.9334 - val_loss: 0.1152 - val_accuracy: 0.9635\n",
            "Epoch 20/100\n",
            "1050/1050 [==============================] - 183s 174ms/step - loss: 0.2068 - accuracy: 0.9340 - val_loss: 0.1147 - val_accuracy: 0.9637\n",
            "Epoch 21/100\n",
            "1050/1050 [==============================] - 183s 174ms/step - loss: 0.2044 - accuracy: 0.9345 - val_loss: 0.1245 - val_accuracy: 0.9607\n",
            "Epoch 22/100\n",
            "1050/1050 [==============================] - 186s 177ms/step - loss: 0.1960 - accuracy: 0.9376 - val_loss: 0.1152 - val_accuracy: 0.9624\n",
            "Epoch 23/100\n",
            "1050/1050 [==============================] - 184s 176ms/step - loss: 0.1912 - accuracy: 0.9392 - val_loss: 0.1168 - val_accuracy: 0.9640\n",
            "Epoch 24/100\n",
            "1050/1050 [==============================] - 184s 176ms/step - loss: 0.1947 - accuracy: 0.9398 - val_loss: 0.1152 - val_accuracy: 0.9624\n",
            "Epoch 25/100\n",
            "1050/1050 [==============================] - 185s 177ms/step - loss: 0.1903 - accuracy: 0.9402 - val_loss: 0.1123 - val_accuracy: 0.9626\n",
            "Epoch 26/100\n",
            "1050/1050 [==============================] - 185s 176ms/step - loss: 0.1836 - accuracy: 0.9416 - val_loss: 0.1069 - val_accuracy: 0.9661\n",
            "Epoch 27/100\n",
            "1050/1050 [==============================] - 183s 175ms/step - loss: 0.1840 - accuracy: 0.9403 - val_loss: 0.1033 - val_accuracy: 0.9680\n",
            "Epoch 28/100\n",
            "1050/1050 [==============================] - 185s 176ms/step - loss: 0.1797 - accuracy: 0.9421 - val_loss: 0.0994 - val_accuracy: 0.9686\n",
            "Epoch 29/100\n",
            "1050/1050 [==============================] - 185s 176ms/step - loss: 0.1804 - accuracy: 0.9425 - val_loss: 0.1075 - val_accuracy: 0.9656\n",
            "Epoch 30/100\n",
            "1050/1050 [==============================] - 185s 176ms/step - loss: 0.1743 - accuracy: 0.9438 - val_loss: 0.1118 - val_accuracy: 0.9646\n",
            "Epoch 31/100\n",
            "1050/1050 [==============================] - 183s 174ms/step - loss: 0.1715 - accuracy: 0.9457 - val_loss: 0.1050 - val_accuracy: 0.9675\n",
            "Epoch 32/100\n",
            "1050/1050 [==============================] - 182s 173ms/step - loss: 0.1717 - accuracy: 0.9454 - val_loss: 0.1032 - val_accuracy: 0.9680\n",
            "Epoch 33/100\n",
            "1050/1050 [==============================] - 183s 174ms/step - loss: 0.1700 - accuracy: 0.9469 - val_loss: 0.1033 - val_accuracy: 0.9675\n",
            "Epoch 34/100\n",
            "1050/1050 [==============================] - 184s 175ms/step - loss: 0.1700 - accuracy: 0.9462 - val_loss: 0.1106 - val_accuracy: 0.9650\n",
            "Epoch 35/100\n",
            "1050/1050 [==============================] - 184s 175ms/step - loss: 0.1666 - accuracy: 0.9486 - val_loss: 0.0988 - val_accuracy: 0.9686\n",
            "Epoch 36/100\n",
            "1050/1050 [==============================] - 184s 175ms/step - loss: 0.1642 - accuracy: 0.9488 - val_loss: 0.1104 - val_accuracy: 0.9649\n",
            "Epoch 37/100\n",
            "1050/1050 [==============================] - 184s 175ms/step - loss: 0.1605 - accuracy: 0.9498 - val_loss: 0.1178 - val_accuracy: 0.9620\n",
            "Epoch 38/100\n",
            "1050/1050 [==============================] - 183s 174ms/step - loss: 0.1580 - accuracy: 0.9504 - val_loss: 0.0939 - val_accuracy: 0.9704\n",
            "Epoch 39/100\n",
            "1050/1050 [==============================] - 185s 176ms/step - loss: 0.1594 - accuracy: 0.9515 - val_loss: 0.0888 - val_accuracy: 0.9711\n",
            "Epoch 40/100\n",
            "1050/1050 [==============================] - 185s 176ms/step - loss: 0.1585 - accuracy: 0.9501 - val_loss: 0.0899 - val_accuracy: 0.9715\n",
            "Epoch 41/100\n",
            "1050/1050 [==============================] - 184s 175ms/step - loss: 0.1615 - accuracy: 0.9487 - val_loss: 0.0943 - val_accuracy: 0.9712\n",
            "Epoch 42/100\n",
            "1050/1050 [==============================] - 184s 176ms/step - loss: 0.1590 - accuracy: 0.9498 - val_loss: 0.0987 - val_accuracy: 0.9689\n",
            "Epoch 43/100\n",
            "1050/1050 [==============================] - 185s 176ms/step - loss: 0.1560 - accuracy: 0.9501 - val_loss: 0.1128 - val_accuracy: 0.9655\n",
            "Epoch 44/100\n",
            "1050/1050 [==============================] - 186s 177ms/step - loss: 0.1568 - accuracy: 0.9520 - val_loss: 0.0879 - val_accuracy: 0.9726\n",
            "Epoch 45/100\n",
            "1050/1050 [==============================] - 184s 176ms/step - loss: 0.1521 - accuracy: 0.9518 - val_loss: 0.0977 - val_accuracy: 0.9699\n",
            "Epoch 46/100\n",
            "1050/1050 [==============================] - 184s 175ms/step - loss: 0.1488 - accuracy: 0.9540 - val_loss: 0.0933 - val_accuracy: 0.9724\n",
            "Epoch 47/100\n",
            "1050/1050 [==============================] - 183s 175ms/step - loss: 0.1520 - accuracy: 0.9526 - val_loss: 0.1021 - val_accuracy: 0.9684\n",
            "Epoch 48/100\n",
            "1050/1050 [==============================] - 185s 176ms/step - loss: 0.1517 - accuracy: 0.9532 - val_loss: 0.0901 - val_accuracy: 0.9720\n",
            "Epoch 49/100\n",
            "1050/1050 [==============================] - 184s 175ms/step - loss: 0.1451 - accuracy: 0.9540 - val_loss: 0.1100 - val_accuracy: 0.9652\n",
            "Epoch 50/100\n",
            "1050/1050 [==============================] - 184s 176ms/step - loss: 0.1508 - accuracy: 0.9525 - val_loss: 0.0808 - val_accuracy: 0.9748\n",
            "Epoch 51/100\n",
            "1050/1050 [==============================] - 184s 175ms/step - loss: 0.1449 - accuracy: 0.9551 - val_loss: 0.0706 - val_accuracy: 0.9783\n",
            "Epoch 52/100\n",
            "1050/1050 [==============================] - 183s 175ms/step - loss: 0.1438 - accuracy: 0.9562 - val_loss: 0.0783 - val_accuracy: 0.9759\n",
            "Epoch 53/100\n",
            "1050/1050 [==============================] - 184s 175ms/step - loss: 0.1486 - accuracy: 0.9529 - val_loss: 0.0756 - val_accuracy: 0.9763\n",
            "Epoch 54/100\n",
            "1050/1050 [==============================] - 184s 175ms/step - loss: 0.1484 - accuracy: 0.9541 - val_loss: 0.0808 - val_accuracy: 0.9740\n",
            "Epoch 55/100\n",
            "1050/1050 [==============================] - 183s 174ms/step - loss: 0.1468 - accuracy: 0.9535 - val_loss: 0.0939 - val_accuracy: 0.9707\n",
            "Epoch 56/100\n",
            "1050/1050 [==============================] - 185s 176ms/step - loss: 0.1418 - accuracy: 0.9546 - val_loss: 0.0876 - val_accuracy: 0.9729\n",
            "Epoch 57/100\n",
            "1050/1050 [==============================] - 186s 177ms/step - loss: 0.1458 - accuracy: 0.9542 - val_loss: 0.0848 - val_accuracy: 0.9727\n",
            "Epoch 58/100\n",
            "1050/1050 [==============================] - 186s 177ms/step - loss: 0.1400 - accuracy: 0.9571 - val_loss: 0.0835 - val_accuracy: 0.9737\n",
            "Epoch 59/100\n",
            "1050/1050 [==============================] - 185s 176ms/step - loss: 0.1377 - accuracy: 0.9566 - val_loss: 0.0840 - val_accuracy: 0.9735\n",
            "Epoch 60/100\n",
            "1050/1050 [==============================] - 183s 175ms/step - loss: 0.1414 - accuracy: 0.9565 - val_loss: 0.0824 - val_accuracy: 0.9741\n",
            "Epoch 61/100\n",
            "1050/1050 [==============================] - ETA: 0s - loss: 0.1405 - accuracy: 0.9559Restoring model weights from the end of the best epoch: 51.\n",
            "1050/1050 [==============================] - 182s 174ms/step - loss: 0.1405 - accuracy: 0.9559 - val_loss: 0.0803 - val_accuracy: 0.9756\n",
            "Epoch 61: early stopping\n"
          ]
        }
      ],
      "source": [
        "history = inception_model.fit(train_generator,\n",
        "                    epochs=epochs,\n",
        "                    validation_data=validation_generator, callbacks = es)"
      ]
    },
    {
      "cell_type": "code",
      "execution_count": 22,
      "metadata": {},
      "outputs": [
        {
          "ename": "ModuleNotFoundError",
          "evalue": "No module named 'sklearn'",
          "output_type": "error",
          "traceback": [
            "\u001b[1;31m---------------------------------------------------------------------------\u001b[0m",
            "\u001b[1;31mModuleNotFoundError\u001b[0m                       Traceback (most recent call last)",
            "\u001b[1;32m~\\AppData\\Local\\Temp\\ipykernel_48932\\514904559.py\u001b[0m in \u001b[0;36m<module>\u001b[1;34m\u001b[0m\n\u001b[1;32m----> 1\u001b[1;33m \u001b[1;32mfrom\u001b[0m \u001b[0msklearn\u001b[0m\u001b[1;33m.\u001b[0m\u001b[0mmetrics\u001b[0m \u001b[1;32mimport\u001b[0m \u001b[0mconfusion_matrix\u001b[0m\u001b[1;33m\u001b[0m\u001b[1;33m\u001b[0m\u001b[0m\n\u001b[0m\u001b[0;32m      2\u001b[0m \u001b[1;33m\u001b[0m\u001b[0m\n\u001b[0;32m      3\u001b[0m \u001b[0mvalidation_images\u001b[0m \u001b[1;33m=\u001b[0m \u001b[0mvalidation_images\u001b[0m\u001b[1;33m.\u001b[0m\u001b[0mreshape\u001b[0m\u001b[1;33m(\u001b[0m\u001b[0mvalidation_images\u001b[0m\u001b[1;33m.\u001b[0m\u001b[0mshape\u001b[0m\u001b[1;33m[\u001b[0m\u001b[1;36m0\u001b[0m\u001b[1;33m]\u001b[0m\u001b[1;33m,\u001b[0m \u001b[0mvalidation_images\u001b[0m\u001b[1;33m.\u001b[0m\u001b[0mshape\u001b[0m\u001b[1;33m[\u001b[0m\u001b[1;36m1\u001b[0m\u001b[1;33m]\u001b[0m\u001b[1;33m,\u001b[0m \u001b[0mvalidation_images\u001b[0m\u001b[1;33m.\u001b[0m\u001b[0mshape\u001b[0m\u001b[1;33m[\u001b[0m\u001b[1;36m2\u001b[0m\u001b[1;33m]\u001b[0m\u001b[1;33m,\u001b[0m \u001b[1;36m1\u001b[0m\u001b[1;33m)\u001b[0m\u001b[1;33m\u001b[0m\u001b[1;33m\u001b[0m\u001b[0m\n\u001b[0;32m      4\u001b[0m \u001b[0mY_true\u001b[0m \u001b[1;33m=\u001b[0m \u001b[0mnp\u001b[0m\u001b[1;33m.\u001b[0m\u001b[0margmax\u001b[0m\u001b[1;33m(\u001b[0m\u001b[0mvalidation_labels\u001b[0m\u001b[1;33m)\u001b[0m\u001b[1;33m\u001b[0m\u001b[1;33m\u001b[0m\u001b[0m\n\u001b[0;32m      5\u001b[0m \u001b[1;33m\u001b[0m\u001b[0m\n",
            "\u001b[1;31mModuleNotFoundError\u001b[0m: No module named 'sklearn'"
          ]
        },
        {
          "ename": "",
          "evalue": "",
          "output_type": "error",
          "traceback": [
            "\u001b[1;31mThe Kernel crashed while executing code in the the current cell or a previous cell. Please review the code in the cell(s) to identify a possible cause of the failure. Click <a href='https://aka.ms/vscodeJupyterKernelCrash'>here</a> for more info. View Jupyter <a href='command:jupyter.viewOutput'>log</a> for further details."
          ]
        }
      ],
      "source": [
        "from sklearn.metrics import confusion_matrix\n",
        "\n",
        "validation_images = validation_images.reshape(validation_images.shape[0], validation_images.shape[1], validation_images.shape[2], 1)\n",
        "Y_true = np.argmax(validation_labels)\n",
        "\n",
        "Y_pred = inception_model.predict(validation_images)\n",
        "Y_pred_classes = np.argmax(Y_pred, axis=1)\n",
        "\n",
        "confusionMatrix = confusion_matrix(validation_labels, Y_pred_classes)\n",
        "\n",
        "# Şekil (figure) ve eksen (axis) nesnesini al\n",
        "f, ax = plt.subplots(figsize=(10, 10))\n",
        "\n",
        "# Isı haritasını çiz\n",
        "sns.heatmap(confusionMatrix, annot=True, linewidths=0.1, cmap=\"cividis\", linecolor=\"black\", fmt='.0f', ax=ax)\n",
        "\n",
        "plt.xlabel(\"Predicted Label\")\n",
        "plt.ylabel(\"True Label\")\n",
        "plt.title(\"Confusion Matrix\")\n",
        "plt.show()"
      ]
    },
    {
      "cell_type": "code",
      "execution_count": 21,
      "metadata": {},
      "outputs": [
        {
          "name": "stdout",
          "output_type": "stream",
          "text": [
            "Note: you may need to restart the kernel to use updated packages.\n"
          ]
        },
        {
          "name": "stderr",
          "output_type": "stream",
          "text": [
            "WARNING: Ignoring invalid distribution -rotobuf (c:\\users\\uifan\\anaconda3\\envs\\testenv\\lib\\site-packages)\n",
            "ERROR: Could not find a version that satisfies the requirement sckit-learn (from versions: none)\n",
            "ERROR: No matching distribution found for sckit-learn\n"
          ]
        }
      ],
      "source": [
        "pip install sckit-learn"
      ]
    },
    {
      "cell_type": "markdown",
      "metadata": {},
      "source": [
        "## ResNet Model"
      ]
    },
    {
      "cell_type": "code",
      "execution_count": null,
      "metadata": {},
      "outputs": [],
      "source": [
        "from ResNet import ResNet "
      ]
    },
    {
      "cell_type": "code",
      "execution_count": null,
      "metadata": {},
      "outputs": [],
      "source": [
        "resnet = ResNet(num_classes = 10)"
      ]
    }
  ],
  "metadata": {
    "accelerator": "GPU",
    "colab": {
      "gpuType": "T4",
      "provenance": []
    },
    "kernelspec": {
      "display_name": "Python 3",
      "name": "python3"
    },
    "language_info": {
      "codemirror_mode": {
        "name": "ipython",
        "version": 3
      },
      "file_extension": ".py",
      "mimetype": "text/x-python",
      "name": "python",
      "nbconvert_exporter": "python",
      "pygments_lexer": "ipython3",
      "version": "3.7.12"
    }
  },
  "nbformat": 4,
  "nbformat_minor": 0
}
